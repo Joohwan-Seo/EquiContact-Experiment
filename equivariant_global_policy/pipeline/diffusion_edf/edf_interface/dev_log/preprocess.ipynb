{
 "cells": [
  {
   "cell_type": "code",
   "execution_count": null,
   "metadata": {},
   "outputs": [],
   "source": [
    "from beartype import beartype\n",
    "import torch\n",
    "\n",
    "from edf_interface.data import DemoDataset, TargetPoseDemo, DemoSequence, SE3, PointCloud, DataAbstractBase\n",
    "from edf_interface.data.utils import units_to_str, str_to_units\n",
    "from edf_interface.data.preprocess import recursive_apply, rescale, downsample, change_frame, PreprocessDataTypeException, PreprocessNonDataException, compose_procs"
   ]
  },
  {
   "cell_type": "code",
   "execution_count": null,
   "metadata": {},
   "outputs": [],
   "source": [
    "dataset = DemoDataset('../demo/test_demo_single_mug_new')\n",
    "demo = dataset[0]\n",
    "pick, place = demo\n",
    "target_task = place\n",
    "scene_pcd, grasp_pcd, target_poses = target_task.scene_pcd, target_task.grasp_pcd, target_task.target_poses"
   ]
  },
  {
   "cell_type": "code",
   "execution_count": null,
   "metadata": {},
   "outputs": [],
   "source": [
    "# demo_downsampled = downsample(demo, voxel_size=0.02)\n",
    "# demo_rescaled = rescale(demo_downsampled, rescale_factor=100.)\n",
    "# demo_transformed = change_frame(demo_rescaled, frame=torch.tensor([[0., 1., 0., 0., 0., 0., -10.]]))\n",
    "\n",
    "from functools import partial\n",
    "proc = compose_procs([\n",
    "    partial(downsample, voxel_size = 0.02),\n",
    "    partial(rescale, rescale_factor=100.),\n",
    "    partial(change_frame, frame=torch.tensor([[0., 1., 0., 0., 0., 0., -10.]]))\n",
    "])"
   ]
  },
  {
   "cell_type": "code",
   "execution_count": null,
   "metadata": {},
   "outputs": [],
   "source": [
    "demo_transformed = proc(demo)"
   ]
  },
  {
   "cell_type": "code",
   "execution_count": null,
   "metadata": {},
   "outputs": [],
   "source": [
    "demo_transformed[1].show()"
   ]
  },
  {
   "cell_type": "code",
   "execution_count": null,
   "metadata": {},
   "outputs": [],
   "source": []
  }
 ],
 "metadata": {
  "kernelspec": {
   "display_name": "diff_edf",
   "language": "python",
   "name": "python3"
  },
  "language_info": {
   "codemirror_mode": {
    "name": "ipython",
    "version": 3
   },
   "file_extension": ".py",
   "mimetype": "text/x-python",
   "name": "python",
   "nbconvert_exporter": "python",
   "pygments_lexer": "ipython3",
   "version": "3.8.16"
  },
  "orig_nbformat": 4,
  "vscode": {
   "interpreter": {
    "hash": "79a0085b6cf04e1cff261ad12d41cff4e1530d9e68d1f8fc6bd159a2915452c6"
   }
  }
 },
 "nbformat": 4,
 "nbformat_minor": 2
}
