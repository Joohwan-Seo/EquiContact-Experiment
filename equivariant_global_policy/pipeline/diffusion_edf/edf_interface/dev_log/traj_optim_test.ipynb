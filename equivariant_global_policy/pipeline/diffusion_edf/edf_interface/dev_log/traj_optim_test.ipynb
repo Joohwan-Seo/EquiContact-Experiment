{
 "cells": [
  {
   "cell_type": "code",
   "execution_count": null,
   "metadata": {},
   "outputs": [],
   "source": [
    "import os\n",
    "os.environ[\"PYTORCH_JIT_USE_NNC_NOT_NVFUSER\"] = \"1\"\n",
    "from typing import List, Tuple, Optional, Union, Iterable\n",
    "import warnings\n",
    "import math\n",
    "\n",
    "from beartype import beartype\n",
    "import datetime\n",
    "import plotly.graph_objects as go\n",
    "from tqdm import tqdm\n",
    "import yaml\n",
    "\n",
    "import torch\n",
    "from torch.utils.data import DataLoader\n",
    "from torchvision.transforms import Compose\n",
    "from e3nn import o3\n",
    "\n",
    "from edf_interface import data\n",
    "from diffusion_edf.gnn_data import FeaturedPoints\n",
    "from diffusion_edf import train_utils\n",
    "from diffusion_edf.trainer import DiffusionEdfTrainer\n",
    "from diffusion_edf.visualize import visualize_pose\n",
    "from diffusion_edf.agent import DiffusionEdfAgent\n",
    "\n",
    "torch.set_printoptions(precision=4, sci_mode=False)"
   ]
  },
  {
   "cell_type": "code",
   "execution_count": null,
   "metadata": {},
   "outputs": [],
   "source": [
    "import torch_cluster, torch_scatter\n",
    "from edf_interface.utils.manipulation_utils import compute_pre_pick_trajectories, compute_pre_place_trajectories, compute_post_pick_trajectories, compute_post_place_trajectories"
   ]
  },
  {
   "cell_type": "code",
   "execution_count": null,
   "metadata": {},
   "outputs": [],
   "source": [
    "device = 'cuda:0'\n",
    "config_root_dir = 'configs/sapien'\n",
    "testset = data.DemoDataset(dataset_dir='demo/sapien_demo_20230625')\n",
    "idx = 0"
   ]
  },
  {
   "cell_type": "code",
   "execution_count": null,
   "metadata": {},
   "outputs": [],
   "source": [
    "task_type = 'pick'\n",
    "demo = testset[idx][0 if task_type == 'pick' else 1]\n",
    "scene_pcd, grasp_pcd, target_poses = demo.scene_pcd, demo.grasp_pcd, demo.target_poses\n",
    "\n",
    "pre_pick_traj = compute_pre_pick_trajectories(pick_poses=target_poses, approach_len=0.1, n_steps=20)[0]\n",
    "post_pick_traj = compute_post_pick_trajectories(pick_poses=target_poses, lift_len=0.1, n_steps=20)[0]"
   ]
  },
  {
   "cell_type": "code",
   "execution_count": null,
   "metadata": {},
   "outputs": [],
   "source": [
    "task_type = 'place'\n",
    "demo = testset[idx][0 if task_type == 'pick' else 1]\n",
    "scene_pcd, grasp_pcd, target_poses = demo.scene_pcd, demo.grasp_pcd, demo.target_poses\n",
    "\n",
    "pre_place_traj = compute_pre_place_trajectories(place_poses=target_poses, scene_pcd=scene_pcd, grasp_pcd=grasp_pcd, \n",
    "                                                n_steps=20, dt=0.0001, cutoff_r=0.05, eps=0.0001)[0]\n",
    "post_place_traj = compute_post_place_trajectories(place_poses=target_poses, pre_pick_trajectory=pre_pick_traj, n_steps=20, extrapolate_post_place=2.0)[0]"
   ]
  },
  {
   "cell_type": "code",
   "execution_count": null,
   "metadata": {},
   "outputs": [],
   "source": [
    "traj = post_place_traj\n",
    "data.TargetPoseDemo(scene_pcd=scene_pcd, grasp_pcd=grasp_pcd, target_poses=traj).show(point_size=5.)"
   ]
  },
  {
   "cell_type": "code",
   "execution_count": null,
   "metadata": {},
   "outputs": [],
   "source": []
  },
  {
   "cell_type": "code",
   "execution_count": null,
   "metadata": {},
   "outputs": [],
   "source": []
  }
 ],
 "metadata": {
  "kernelspec": {
   "display_name": "diff_edf",
   "language": "python",
   "name": "python3"
  },
  "language_info": {
   "codemirror_mode": {
    "name": "ipython",
    "version": 3
   },
   "file_extension": ".py",
   "mimetype": "text/x-python",
   "name": "python",
   "nbconvert_exporter": "python",
   "pygments_lexer": "ipython3",
   "version": "3.8.16"
  },
  "orig_nbformat": 4,
  "vscode": {
   "interpreter": {
    "hash": "79a0085b6cf04e1cff261ad12d41cff4e1530d9e68d1f8fc6bd159a2915452c6"
   }
  }
 },
 "nbformat": 4,
 "nbformat_minor": 2
}
