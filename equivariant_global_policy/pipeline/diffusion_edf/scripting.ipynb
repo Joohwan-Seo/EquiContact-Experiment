{
 "cells": [
  {
   "cell_type": "code",
   "execution_count": null,
   "metadata": {},
   "outputs": [
    {
     "name": "stdout",
     "output_type": "stream",
     "text": [
      "\u001b[1;33m[Open3D WARNING] Read PCD failed: unable to open file: /home/horowitzlab/ros2_ws/test_pcds3/gripper_pcd_demo12.pcd\u001b[0;m\n",
      "\u001b[1;33m[Open3D WARNING] The number of points is 0 when creating axis-aligned bounding box.\u001b[0;m\n"
     ]
    },
    {
     "ename": "NameError",
     "evalue": "name 'q' is not defined",
     "output_type": "error",
     "traceback": [
      "\u001b[0;31m---------------------------------------------------------------------------\u001b[0m",
      "\u001b[0;31mNameError\u001b[0m                                 Traceback (most recent call last)",
      "Cell \u001b[0;32mIn[2], line 23\u001b[0m\n\u001b[1;32m     21\u001b[0m     pcd \u001b[38;5;241m=\u001b[39m o3d\u001b[38;5;241m.\u001b[39mio\u001b[38;5;241m.\u001b[39mread_point_cloud(i)\n\u001b[1;32m     22\u001b[0m     o3d\u001b[38;5;241m.\u001b[39mvisualization\u001b[38;5;241m.\u001b[39mdraw_geometries([pcd], window_name\u001b[38;5;241m=\u001b[39m\u001b[38;5;28mstr\u001b[39m(i))\n\u001b[0;32m---> 23\u001b[0m \u001b[43mq\u001b[49m\n",
      "\u001b[0;31mNameError\u001b[0m: name 'q' is not defined"
     ]
    }
   ],
   "source": [
    "import open3d as o3d \n",
    "\n",
    "files = [\"/home/horowitzlab/ros2_ws/test_pcds3/gripper_pcd_demo0.pcd\", \n",
    "        \"/home/horowitzlab/ros2_ws/test_pcds3/gripper_pcd_demo1.pcd\",\n",
    "        \"/home/horowitzlab/ros2_ws/test_pcds3/gripper_pcd_demo2.pcd\",\n",
    "        \"/home/horowitzlab/ros2_ws/test_pcds3/gripper_pcd_demo3.pcd\",\n",
    "        \"/home/horowitzlab/ros2_ws/test_pcds3/gripper_pcd_demo4.pcd\",\n",
    "        \"/home/horowitzlab/ros2_ws/test_pcds3/gripper_pcd_demo5.pcd\",\n",
    "        \"/home/horowitzlab/ros2_ws/test_pcds3/gripper_pcd_demo6.pcd\",\n",
    "        \"/home/horowitzlab/ros2_ws/test_pcds3/gripper_pcd_demo7.pcd\",\n",
    "        \"/home/horowitzlab/ros2_ws/test_pcds3/gripper_pcd_demo8.pcd\",\n",
    "        \"/home/horowitzlab/ros2_ws/test_pcds3/gripper_pcd_demo9.pcd\",\n",
    "        \"/home/horowitzlab/ros2_ws/test_pcds3/gripper_pcd_demo10.pcd\", \n",
    "        \"/home/horowitzlab/ros2_ws/test_pcds3/gripper_pcd_demo11.pcd\",\n",
    "        \"/home/horowitzlab/ros2_ws/test_pcds3/gripper_pcd_demo12.pcd\",\n",
    "        \"/home/horowitzlab/ros2_ws/test_pcds3/gripper_pcd_demo13.pcd\",\n",
    "        \"/home/horowitzlab/ros2_ws/test_pcds3/gripper_pcd_demo14.pcd\",\n",
    "        \"/home/horowitzlab/ros2_ws/test_pcds3/gripper_pcd_demo15.pcd\",]\n",
    "\n",
    "for i in files: \n",
    "    pcd = o3d.io.read_point_cloud(i)\n",
    "    o3d.visualization.draw_geometries([pcd], window_name=str(i))\n"
   ]
  }
 ],
 "metadata": {
  "kernelspec": {
   "display_name": "diff_inference",
   "language": "python",
   "name": "python3"
  },
  "language_info": {
   "codemirror_mode": {
    "name": "ipython",
    "version": 3
   },
   "file_extension": ".py",
   "mimetype": "text/x-python",
   "name": "python",
   "nbconvert_exporter": "python",
   "pygments_lexer": "ipython3",
   "version": "3.10.16"
  }
 },
 "nbformat": 4,
 "nbformat_minor": 2
}
