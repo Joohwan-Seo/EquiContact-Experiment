{
 "cells": [
  {
   "cell_type": "code",
   "execution_count": 1,
   "metadata": {},
   "outputs": [
    {
     "name": "stdout",
     "output_type": "stream",
     "text": [
      "Jupyter environment detected. Enabling Open3D WebVisualizer.\n",
      "[Open3D INFO] WebRTC GUI backend enabled.\n",
      "[Open3D INFO] WebRTCWindowSystem: HTTP handshake server disabled.\n"
     ]
    }
   ],
   "source": [
    "from typing import Union, Optional, List, Tuple, Dict, Any, Iterable, TypeVar, Type, NamedTuple, Sequence, Generic, _GenericAlias\n",
    "\n",
    "from beartype import beartype\n",
    "from edf_interface.data.base import DataAbstractBase\n",
    "\n",
    "import torch"
   ]
  },
  {
   "cell_type": "code",
   "execution_count": 2,
   "metadata": {},
   "outputs": [],
   "source": [
    "@beartype\n",
    "class SmallData(DataAbstractBase):\n",
    "    data_args_type: Dict[str, type] = {\n",
    "        'j': torch.Tensor,\n",
    "    }\n",
    "\n",
    "    metadata_args: List[str] = ['name']\n",
    "\n",
    "    @property\n",
    "    def device(self) -> torch.device:\n",
    "        return self.j.device\n",
    "\n",
    "    def __init__(self, j: torch.Tensor, name: str):\n",
    "        self.j: torch.Tensor = j\n",
    "        self.name: str = name\n",
    "\n",
    "@beartype\n",
    "class TestData(DataAbstractBase):\n",
    "    data_args_type: Dict[str, type] = {\n",
    "        'x': torch.Tensor,\n",
    "        'y': int,\n",
    "        'z': dict,\n",
    "        'k': SmallData\n",
    "    }\n",
    "\n",
    "    metadata_args: List[str] = ['a', 'b']\n",
    "\n",
    "    @property\n",
    "    def device(self) -> torch.device:\n",
    "        return self.x.device\n",
    "\n",
    "    def __init__(self, x: torch.Tensor, y: int, z: Dict, k: SmallData, a: List, b: int):\n",
    "        self.x: torch.Tensor = x\n",
    "        self.y: int = y\n",
    "        self.z: Dict = z\n",
    "        self.a: List = a\n",
    "        self.b: int = b\n",
    "        self.k: SmallData = k"
   ]
  },
  {
   "cell_type": "code",
   "execution_count": 3,
   "metadata": {},
   "outputs": [
    {
     "data": {
      "text/plain": [
       "<TestData>  (device: cpu)\n",
       "  Metadata: \n",
       "    - a: [1.0, 2.0]\n",
       "    - b: 3\n",
       "  Data: \n",
       "    - x: <Tensor> (Shape: torch.Size([5, 3]))\n",
       "          tensor([[ 2.1426,  0.8252,  0.3087],\n",
       "                  [ 0.0946, -0.8636,  0.9128],\n",
       "                  [-0.1423, -0.2763,  1.2188],\n",
       "                  [ 0.3210, -0.8009, -0.4178],\n",
       "                  [ 1.1104,  0.2976, -0.1872]])\n",
       "    - y: <int>\n",
       "          3\n",
       "    - z: <dict>\n",
       "          {'a': 5}\n",
       "    - k: <SmallData>\n",
       "          - name: 'small'\n",
       "          - j: <Tensor> (Shape: torch.Size([3, 4]))\n",
       "            \n",
       "          "
      ]
     },
     "execution_count": 3,
     "metadata": {},
     "output_type": "execute_result"
    }
   ],
   "source": [
    "data = TestData(x=torch.randn(5,3), y=3, z={'a': 5}, k=SmallData(j=torch.randn(3,4), name='small'), a=[1., 2.], b=3)\n",
    "data"
   ]
  },
  {
   "cell_type": "code",
   "execution_count": 4,
   "metadata": {},
   "outputs": [
    {
     "data": {
      "text/plain": [
       "<TestData>  (device: cuda:0)\n",
       "  Metadata: \n",
       "    - a: [1.0, 2.0]\n",
       "    - b: 3\n",
       "  Data: \n",
       "    - x: <Tensor> (Shape: torch.Size([5, 3]))\n",
       "          tensor([[ 2.1426,  0.8252,  0.3087],\n",
       "                  [ 0.0946, -0.8636,  0.9128],\n",
       "                  [-0.1423, -0.2763,  1.2188],\n",
       "                  [ 0.3210, -0.8009, -0.4178],\n",
       "                  [ 1.1104,  0.2976, -0.1872]], device='cuda:0')\n",
       "    - y: <int>\n",
       "          3\n",
       "    - z: <dict>\n",
       "          {'a': 5}\n",
       "    - k: <SmallData>\n",
       "          - name: 'small'\n",
       "          - j: <Tensor> (Shape: torch.Size([3, 4]))\n",
       "            \n",
       "          "
      ]
     },
     "execution_count": 4,
     "metadata": {},
     "output_type": "execute_result"
    }
   ],
   "source": [
    "data = data.to('cuda')\n",
    "data"
   ]
  },
  {
   "cell_type": "code",
   "execution_count": 6,
   "metadata": {},
   "outputs": [
    {
     "data": {
      "text/plain": [
       "{'x': tensor([[ 2.1426,  0.8252,  0.3087],\n",
       "         [ 0.0946, -0.8636,  0.9128],\n",
       "         [-0.1423, -0.2763,  1.2188],\n",
       "         [ 0.3210, -0.8009, -0.4178],\n",
       "         [ 1.1104,  0.2976, -0.1872]]),\n",
       " 'y': 3,\n",
       " 'z': {'a': 5},\n",
       " 'k': {'j': tensor([[ 1.8516,  0.7965,  0.2105, -0.5913],\n",
       "          [-0.6595,  0.7075, -1.9977, -0.1598],\n",
       "          [-0.3256,  0.5113, -0.9532,  0.2929]]),\n",
       "  'metadata': {'__type__': 'SmallData', 'name': 'small'}},\n",
       " 'metadata': {'__type__': 'TestData', 'a': [1.0, 2.0], 'b': 3}}"
      ]
     },
     "execution_count": 6,
     "metadata": {},
     "output_type": "execute_result"
    }
   ],
   "source": [
    "state_dict = data.get_data_dict(device='cpu')\n",
    "state_dict"
   ]
  },
  {
   "cell_type": "code",
   "execution_count": 7,
   "metadata": {},
   "outputs": [
    {
     "data": {
      "text/plain": [
       "<TestData>  (device: cuda:0)\n",
       "  Metadata: \n",
       "    - a: [1.0, 2.0]\n",
       "    - b: 3\n",
       "  Data: \n",
       "    - x: <Tensor> (Shape: torch.Size([5, 3]))\n",
       "          tensor([[ 2.1426,  0.8252,  0.3087],\n",
       "                  [ 0.0946, -0.8636,  0.9128],\n",
       "                  [-0.1423, -0.2763,  1.2188],\n",
       "                  [ 0.3210, -0.8009, -0.4178],\n",
       "                  [ 1.1104,  0.2976, -0.1872]], device='cuda:0')\n",
       "    - y: <int>\n",
       "          3\n",
       "    - z: <dict>\n",
       "          {'a': 5}\n",
       "    - k: <SmallData>\n",
       "          - name: 'small'\n",
       "          - j: <Tensor> (Shape: torch.Size([3, 4]))\n",
       "            \n",
       "          "
      ]
     },
     "execution_count": 7,
     "metadata": {},
     "output_type": "execute_result"
    }
   ],
   "source": [
    "TestData.from_data_dict(state_dict, device='cuda')"
   ]
  },
  {
   "cell_type": "code",
   "execution_count": null,
   "metadata": {},
   "outputs": [],
   "source": []
  }
 ],
 "metadata": {
  "kernelspec": {
   "display_name": "diff_edf",
   "language": "python",
   "name": "python3"
  },
  "language_info": {
   "codemirror_mode": {
    "name": "ipython",
    "version": 3
   },
   "file_extension": ".py",
   "mimetype": "text/x-python",
   "name": "python",
   "nbconvert_exporter": "python",
   "pygments_lexer": "ipython3",
   "version": "3.8.16"
  },
  "orig_nbformat": 4,
  "vscode": {
   "interpreter": {
    "hash": "79a0085b6cf04e1cff261ad12d41cff4e1530d9e68d1f8fc6bd159a2915452c6"
   }
  }
 },
 "nbformat": 4,
 "nbformat_minor": 2
}
