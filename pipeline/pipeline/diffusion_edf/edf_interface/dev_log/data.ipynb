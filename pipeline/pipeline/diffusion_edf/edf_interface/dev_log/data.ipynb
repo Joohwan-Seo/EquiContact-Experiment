{
 "cells": [
  {
   "cell_type": "code",
   "execution_count": 1,
   "metadata": {},
   "outputs": [],
   "source": [
    "from typing import Union, Optional, List, Tuple, Dict, Any, Iterable, TypeVar, Type, NamedTuple, Sequence, Generic, _GenericAlias\n",
    "\n",
    "from beartype import beartype\n",
    "from edf_interface.data.se3 import SE3\n",
    "from edf_interface.data.pointcloud import PointCloud\n",
    "\n",
    "import torch"
   ]
  },
  {
   "cell_type": "code",
   "execution_count": 2,
   "metadata": {},
   "outputs": [
    {
     "name": "stdout",
     "output_type": "stream",
     "text": [
      "<SE3 (cuda:0)>\n",
      "  Metadata: \n",
      "    - name: \n",
      "  Data: \n",
      "    - poses: <Tensor> (Shape: torch.Size([1, 7]))\n",
      "          tensor([[1., 0., 0., 0., 0., 0., 1.]], device='cuda:0')\n",
      "\n"
     ]
    }
   ],
   "source": [
    "poses = SE3(poses=torch.tensor([[1., 0., 0., 0., 0., 0., 1.]])).to('cuda')\n",
    "print(poses)"
   ]
  },
  {
   "cell_type": "code",
   "execution_count": 3,
   "metadata": {},
   "outputs": [
    {
     "name": "stdout",
     "output_type": "stream",
     "text": [
      "<SE3>\n",
      "  Metadata: \n",
      "    - name: \n",
      "  Data: \n",
      "    - poses: <Tensor> (Shape: torch.Size([1, 7]))\n",
      "          tensor([[1., 0., 0., 0., 0., 0., 1.]])\n",
      "\n"
     ]
    }
   ],
   "source": [
    "print(SE3.from_data_dict(poses.get_data_dict(), device='cpu'))"
   ]
  },
  {
   "cell_type": "code",
   "execution_count": 4,
   "metadata": {},
   "outputs": [
    {
     "name": "stdout",
     "output_type": "stream",
     "text": [
      "<PointCloud (cuda:0)>\n",
      "  Metadata: \n",
      "    - name: pcd_test\n",
      "  Data: \n",
      "    - points: <Tensor> (Shape: torch.Size([5, 3]))\n",
      "          tensor([[ 0.2705, -0.8222,  0.7405],\n",
      "                  [-1.4753,  0.9671,  0.4145],\n",
      "                  [ 0.2036,  0.5835,  0.0837],\n",
      "                  [ 0.0025, -0.5326,  1.8675],\n",
      "                  [-0.5537,  1.3781,  1.3210]], device='cuda:0')\n",
      "    - colors: <Tensor> (Shape: torch.Size([5, 3]))\n",
      "          tensor([[ 1.0019,  0.1771, -0.0932],\n",
      "                  [ 0.0876,  0.6277, -1.3474],\n",
      "                  [-0.5938,  1.2340,  0.4208],\n",
      "                  [-0.3308,  0.7828,  1.8231],\n",
      "                  [ 1.4777, -0.5799,  0.1459]], device='cuda:0')\n",
      "\n"
     ]
    }
   ],
   "source": [
    "pcd = PointCloud(points = torch.randn(5,3), colors = torch.randn(5,3), name='pcd_test').to('cuda')\n",
    "print(pcd)"
   ]
  },
  {
   "cell_type": "code",
   "execution_count": 5,
   "metadata": {},
   "outputs": [
    {
     "name": "stdout",
     "output_type": "stream",
     "text": [
      "<PointCloud>\n",
      "  Metadata: \n",
      "    - name: pcd_test\n",
      "  Data: \n",
      "    - points: <Tensor> (Shape: torch.Size([5, 3]))\n",
      "          tensor([[ 0.2705, -0.8222,  0.7405],\n",
      "                  [-1.4753,  0.9671,  0.4145],\n",
      "                  [ 0.2036,  0.5835,  0.0837],\n",
      "                  [ 0.0025, -0.5326,  1.8675],\n",
      "                  [-0.5537,  1.3781,  1.3210]])\n",
      "    - colors: <Tensor> (Shape: torch.Size([5, 3]))\n",
      "          tensor([[ 1.0019,  0.1771, -0.0932],\n",
      "                  [ 0.0876,  0.6277, -1.3474],\n",
      "                  [-0.5938,  1.2340,  0.4208],\n",
      "                  [-0.3308,  0.7828,  1.8231],\n",
      "                  [ 1.4777, -0.5799,  0.1459]])\n",
      "\n"
     ]
    }
   ],
   "source": [
    "print(PointCloud.from_data_dict(pcd.get_data_dict(), device='cpu'))"
   ]
  }
 ],
 "metadata": {
  "kernelspec": {
   "display_name": "diff_edf",
   "language": "python",
   "name": "python3"
  },
  "language_info": {
   "codemirror_mode": {
    "name": "ipython",
    "version": 3
   },
   "file_extension": ".py",
   "mimetype": "text/x-python",
   "name": "python",
   "nbconvert_exporter": "python",
   "pygments_lexer": "ipython3",
   "version": "3.8.16"
  },
  "orig_nbformat": 4,
  "vscode": {
   "interpreter": {
    "hash": "79a0085b6cf04e1cff261ad12d41cff4e1530d9e68d1f8fc6bd159a2915452c6"
   }
  }
 },
 "nbformat": 4,
 "nbformat_minor": 2
}
