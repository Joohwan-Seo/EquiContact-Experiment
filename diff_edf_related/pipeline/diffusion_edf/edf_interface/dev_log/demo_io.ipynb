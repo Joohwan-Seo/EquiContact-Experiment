{
 "cells": [
  {
   "cell_type": "code",
   "execution_count": 1,
   "metadata": {},
   "outputs": [],
   "source": [
    "from typing import Union, Optional, List, Tuple, Dict, Any, Iterable, TypeVar, Type, NamedTuple, Sequence, Generic, _GenericAlias, get_origin, get_args\n",
    "from typing_extensions import Self\n",
    "from abc import abstractmethod\n",
    "\n",
    "from beartype import beartype\n",
    "from edf_interface.data.base import DataAbstractBase, _device, _dtype, _torch_tensor_to\n",
    "from edf_interface.data.se3 import SE3\n",
    "from edf_interface.data.pointcloud import PointCloud\n",
    "from edf_interface.data.demo import DemoSequence, TargetPoseDemo\n",
    "from edf_interface.data.dataset import save_demos, load_demos, DemoDataset\n",
    "\n",
    "import torch"
   ]
  },
  {
   "cell_type": "code",
   "execution_count": 2,
   "metadata": {},
   "outputs": [],
   "source": [
    "demo_seq = DemoSequence([\n",
    "    TargetPoseDemo(\n",
    "        target_poses=SE3(poses=torch.randn(1,7), name='target_poses', renormalize=True),\n",
    "        scene_pcd=PointCloud(points=torch.randn(10,3), colors=torch.randn(10,3), name='scene_pcd'),\n",
    "        grasp_pcd=PointCloud(points=torch.randn(10,3), colors=torch.randn(10,3), name='grasp_pcd'),\n",
    "        name='pick'\n",
    "    ),\n",
    "    TargetPoseDemo(\n",
    "        target_poses=SE3(poses=torch.randn(1,7), name='target_poses', renormalize=True),\n",
    "        scene_pcd=PointCloud(points=torch.randn(10,3), colors=torch.randn(10,3), name='scene_pcd'),\n",
    "        grasp_pcd=PointCloud(points=torch.randn(10,3), colors=torch.randn(10,3), name='grasp_pcd'),\n",
    "        name='place'\n",
    "    ),\n",
    "])\n",
    "\n",
    "save_demos([demo_seq, demo_seq, demo_seq], 'test')"
   ]
  },
  {
   "cell_type": "code",
   "execution_count": 7,
   "metadata": {},
   "outputs": [],
   "source": [
    "dataset = DemoDataset(dataset_dir='test', device='cuda')"
   ]
  },
  {
   "cell_type": "code",
   "execution_count": 8,
   "metadata": {},
   "outputs": [
    {
     "name": "stdout",
     "output_type": "stream",
     "text": [
      "<DemoSequence (cuda:0)>\n",
      "  Metadata: \n",
      "    - name: \n",
      "  Data: \n",
      "    - step_0: <TargetPoseDemo (cuda:0)>\n",
      "          - name: pick\n",
      "          - scene_pcd: <PointCloud (cuda:0)>\n",
      "          - grasp_pcd: <PointCloud (cuda:0)>\n",
      "          - target_poses: <SE3 (cuda:0)>\n",
      "          \n",
      "    - step_1: <TargetPoseDemo (cuda:0)>\n",
      "          - name: place\n",
      "          - scene_pcd: <PointCloud (cuda:0)>\n",
      "          - grasp_pcd: <PointCloud (cuda:0)>\n",
      "          - target_poses: <SE3 (cuda:0)>\n",
      "          \n",
      "\n"
     ]
    }
   ],
   "source": [
    "print(dataset[0])"
   ]
  },
  {
   "cell_type": "code",
   "execution_count": 9,
   "metadata": {},
   "outputs": [
    {
     "name": "stdout",
     "output_type": "stream",
     "text": [
      "<DemoSequence>\n",
      "  Metadata: \n",
      "    - name: \n",
      "  Data: \n",
      "    - step_0: <TargetPoseDemo>\n",
      "          - name: pick\n",
      "          - scene_pcd: <PointCloud>\n",
      "          - grasp_pcd: <PointCloud>\n",
      "          - target_poses: <SE3>\n",
      "          \n",
      "    - step_1: <TargetPoseDemo>\n",
      "          - name: place\n",
      "          - scene_pcd: <PointCloud>\n",
      "          - grasp_pcd: <PointCloud>\n",
      "          - target_poses: <SE3>\n",
      "          \n",
      "\n"
     ]
    }
   ],
   "source": [
    "print(demo_seq)"
   ]
  },
  {
   "cell_type": "code",
   "execution_count": null,
   "metadata": {},
   "outputs": [],
   "source": []
  }
 ],
 "metadata": {
  "kernelspec": {
   "display_name": "diff_edf",
   "language": "python",
   "name": "python3"
  },
  "language_info": {
   "codemirror_mode": {
    "name": "ipython",
    "version": 3
   },
   "file_extension": ".py",
   "mimetype": "text/x-python",
   "name": "python",
   "nbconvert_exporter": "python",
   "pygments_lexer": "ipython3",
   "version": "3.8.16"
  },
  "orig_nbformat": 4,
  "vscode": {
   "interpreter": {
    "hash": "79a0085b6cf04e1cff261ad12d41cff4e1530d9e68d1f8fc6bd159a2915452c6"
   }
  }
 },
 "nbformat": 4,
 "nbformat_minor": 2
}
