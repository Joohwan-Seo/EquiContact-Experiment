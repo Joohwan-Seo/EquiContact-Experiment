{
 "cells": [
  {
   "cell_type": "code",
   "execution_count": 1,
   "metadata": {},
   "outputs": [],
   "source": [
    "from typing import Optional\n",
    "import pickle\n",
    "\n",
    "from beartype import beartype\n",
    "import torch\n",
    "\n",
    "from edf_interface.pyro import get_service_proxy\n",
    "from edf_interface.data import SE3, PointCloud, TargetPoseDemo, DemoSequence\n",
    "from edf_interface.edf_client import EdfClient\n",
    "from edf_interface.utils import wrap_remote"
   ]
  },
  {
   "cell_type": "code",
   "execution_count": null,
   "metadata": {},
   "outputs": [],
   "source": [
    "@beartype\n",
    "class EdfClient():\n",
    "    def __init__(self, env_server_name: str = 'env',\n",
    "                 agent_sever_name: str = 'agent'):\n",
    "        self.env_service = get_service_proxy(env_server_name)\n",
    "        self.agent_service = get_service_proxy(agent_sever_name)\n",
    "\n",
    "        \n",
    "\n",
    "    def get_current_poses(self, **kwargs) -> SE3:\n",
    "        data_dict = self.env_service.get_current_poses(**kwargs)\n",
    "        return SE3.from_data_dict(data_dict=data_dict)\n",
    "    \n",
    "    def observe_scene(self, **kwargs) -> PointCloud:\n",
    "        data_dict = self.env_service.observe_scene(**kwargs)\n",
    "        return PointCloud.from_data_dict(data_dict=data_dict)\n",
    "    \n",
    "    def observe_grasp(self, **kwargs) -> PointCloud:\n",
    "        data_dict = self.env_service.observe_grasp(**kwargs)\n",
    "        return PointCloud.from_data_dict(data_dict=data_dict)\n",
    "    \n",
    "    def move_se3(self, target_poses: SE3, **kwargs) -> bool:\n",
    "        target_poses = target_poses.get_data_dict(serialize=True)\n",
    "        success = self.env_service.move_se3(target_poses=target_poses, **kwargs)\n",
    "        return success\n",
    "    \n",
    "    def infer_target_poses(self, scene_pcd: PointCloud, \n",
    "                           task_name: str,\n",
    "                           grasp_pcd: Optional[PointCloud] = None,\n",
    "                           current_poses: Optional[SE3] = None, \n",
    "                           **kwargs) -> SE3:\n",
    "        scene_pcd = scene_pcd.get_data_dict(serialize=True)\n",
    "        if grasp_pcd is not None:\n",
    "            grasp_pcd = grasp_pcd.get_data_dict(serialize=True)\n",
    "        else:\n",
    "            grasp_pcd = {}\n",
    "        if current_poses is not None:\n",
    "            current_poses = current_poses.get_data_dict(serialize=True)\n",
    "        else:\n",
    "            current_poses = {}\n",
    "        target_poses_dict = self.agent_service.infer_target_poses(scene_pcd=scene_pcd, grasp_pcd=grasp_pcd, task_name=task_name, current_poses=current_poses, **kwargs)\n",
    "        return SE3.from_data_dict(target_poses_dict)\n"
   ]
  },
  {
   "cell_type": "code",
   "execution_count": null,
   "metadata": {},
   "outputs": [],
   "source": []
  },
  {
   "cell_type": "code",
   "execution_count": null,
   "metadata": {},
   "outputs": [],
   "source": []
  },
  {
   "cell_type": "code",
   "execution_count": null,
   "metadata": {},
   "outputs": [],
   "source": []
  },
  {
   "cell_type": "code",
   "execution_count": null,
   "metadata": {},
   "outputs": [],
   "source": [
    "sadf"
   ]
  },
  {
   "cell_type": "code",
   "execution_count": null,
   "metadata": {},
   "outputs": [],
   "source": [
    "client = EdfClient(env_server_name='env', agent_sever_name='agent')"
   ]
  },
  {
   "cell_type": "code",
   "execution_count": null,
   "metadata": {},
   "outputs": [],
   "source": [
    "client.env_service._pyroMethods"
   ]
  },
  {
   "cell_type": "code",
   "execution_count": null,
   "metadata": {},
   "outputs": [],
   "source": []
  },
  {
   "cell_type": "code",
   "execution_count": null,
   "metadata": {},
   "outputs": [],
   "source": [
    "Ts = client.get_current_poses()\n",
    "scene_pcd = client.observe_scene()\n",
    "grasp_pcd = client.observe_grasp()\n",
    "current_state = TargetPoseDemo(target_poses=Ts, scene_pcd=scene_pcd, grasp_pcd=grasp_pcd)\n",
    "\n",
    "print(current_state)\n",
    "# current_state.show(width=400, height=400, point_size=2.)"
   ]
  },
  {
   "cell_type": "code",
   "execution_count": null,
   "metadata": {},
   "outputs": [],
   "source": [
    "target_Ts = client.infer_target_poses(scene_pcd=scene_pcd, \n",
    "                                      grasp_pcd=grasp_pcd, \n",
    "                                      current_poses = Ts,\n",
    "                                      task_name='place')\n",
    "print(target_Ts)"
   ]
  },
  {
   "cell_type": "code",
   "execution_count": null,
   "metadata": {},
   "outputs": [],
   "source": [
    "client.move_se3(target_poses=target_Ts)"
   ]
  },
  {
   "cell_type": "code",
   "execution_count": null,
   "metadata": {},
   "outputs": [],
   "source": []
  },
  {
   "cell_type": "code",
   "execution_count": null,
   "metadata": {},
   "outputs": [],
   "source": []
  }
 ],
 "metadata": {
  "kernelspec": {
   "display_name": "diff_edf",
   "language": "python",
   "name": "python3"
  },
  "language_info": {
   "codemirror_mode": {
    "name": "ipython",
    "version": 3
   },
   "file_extension": ".py",
   "mimetype": "text/x-python",
   "name": "python",
   "nbconvert_exporter": "python",
   "pygments_lexer": "ipython3",
   "version": "3.8.16"
  },
  "orig_nbformat": 4,
  "vscode": {
   "interpreter": {
    "hash": "79a0085b6cf04e1cff261ad12d41cff4e1530d9e68d1f8fc6bd159a2915452c6"
   }
  }
 },
 "nbformat": 4,
 "nbformat_minor": 2
}
