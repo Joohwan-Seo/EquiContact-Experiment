{
 "cells": [
  {
   "cell_type": "code",
   "execution_count": 1,
   "metadata": {},
   "outputs": [],
   "source": [
    "from typing import Optional\n",
    "\n",
    "import torch\n",
    "from beartype import beartype\n",
    "\n",
    "from edf_interface.pyro import PyroServer, expose"
   ]
  },
  {
   "cell_type": "code",
   "execution_count": 2,
   "metadata": {},
   "outputs": [],
   "source": [
    "@beartype\n",
    "class Service():\n",
    "    def __init__(self):\n",
    "        pass\n",
    "\n",
    "    @expose\n",
    "    def test_func(self, x, y, z=1, w=100, p=1000):\n",
    "        return x+y+z+w+p\n",
    "    \n",
    "service = Service()"
   ]
  },
  {
   "cell_type": "code",
   "execution_count": 3,
   "metadata": {},
   "outputs": [
    {
     "name": "stderr",
     "output_type": "stream",
     "text": [
      "env: Looking for a nameserver...\n",
      "env: Cannot find a nameserver. Creating a new one.\n",
      "env: Initialized nameserver @ \"PYRO:Pyro.NameServer@localhost:9090\"\n",
      "env: Running 'env' server in background...\n"
     ]
    }
   ],
   "source": [
    "server = PyroServer(server_name='env', nameserver_host=None)\n",
    "server.register_service(service=service)\n",
    "server.run(nonblocking=True)"
   ]
  },
  {
   "cell_type": "code",
   "execution_count": 4,
   "metadata": {},
   "outputs": [],
   "source": [
    "#server.close()"
   ]
  }
 ],
 "metadata": {
  "kernelspec": {
   "display_name": "diff_edf",
   "language": "python",
   "name": "python3"
  },
  "language_info": {
   "codemirror_mode": {
    "name": "ipython",
    "version": 3
   },
   "file_extension": ".py",
   "mimetype": "text/x-python",
   "name": "python",
   "nbconvert_exporter": "python",
   "pygments_lexer": "ipython3",
   "version": "3.8.13"
  },
  "orig_nbformat": 4,
  "vscode": {
   "interpreter": {
    "hash": "79a0085b6cf04e1cff261ad12d41cff4e1530d9e68d1f8fc6bd159a2915452c6"
   }
  }
 },
 "nbformat": 4,
 "nbformat_minor": 2
}
