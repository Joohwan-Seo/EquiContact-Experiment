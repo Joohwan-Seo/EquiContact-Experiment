{
 "cells": [
  {
   "cell_type": "code",
   "execution_count": 1,
   "metadata": {},
   "outputs": [],
   "source": [
    "import torch\n",
    "import numpy as np\n",
    "import os\n",
    "import pickle\n",
    "import argparse\n",
    "import matplotlib.pyplot as plt\n",
    "from copy import deepcopy\n",
    "from tqdm import tqdm\n",
    "from einops import rearrange\n",
    "\n",
    "from constants import DT\n",
    "from constants import PUPPET_GRIPPER_JOINT_OPEN\n",
    "from utils import load_data # data functions\n",
    "from utils import sample_box_pose, sample_insertion_pose # robot functions\n",
    "from utils import compute_dict_mean, set_seed, detach_dict # helper functions\n",
    "from policy import ACTPolicy, CNNMLPPolicy\n",
    "from visualize_episodes import save_videos\n",
    "\n",
    "from sim_env import BOX_POSE\n",
    "\n",
    "import IPython\n",
    "policy_class = 'ACT'\n",
    "lr = 1e-4\n",
    "kl_weight = 10\n",
    "chunk_size = 100 \n",
    "hidden_dim = 512\n",
    "dim_feedforward = 3200\n",
    "camera_names = ['cam_high', 'cam_low', 'cam_left_wrist', 'cam_right_wrist']\n",
    "num_epochs = 8000\n",
    "ckpt_dir = '/home/horowitzlab/project/act/ckpt_dir/real_peg_insertion'\n",
    "episode_len = 300\n",
    "state_dim = 12\n",
    "task_name = 'real_peg_insertion'\n",
    "seed = 0\n",
    "\n",
    "onscreen_render = False\n",
    "is_sim = False\n",
    "temporal_agg = False\n",
    "\n",
    "lr_backbone = 1e-5\n",
    "backbone = 'resnet18'\n",
    "if policy_class == 'ACT':\n",
    "    enc_layers = 4\n",
    "    dec_layers = 7\n",
    "    nheads = 8\n",
    "    policy_config = {'lr': lr,\n",
    "                        'num_queries':chunk_size,\n",
    "                        'kl_weight': kl_weight,\n",
    "                        'hidden_dim': hidden_dim,\n",
    "                        'dim_feedforward': dim_feedforward,\n",
    "                        'lr_backbone': lr_backbone,\n",
    "                        'backbone': backbone,\n",
    "                        'enc_layers': enc_layers,\n",
    "                        'dec_layers': dec_layers,\n",
    "                        'nheads': nheads,\n",
    "                        'camera_names': camera_names,\n",
    "                        'ckpt_dir': ckpt_dir,\n",
    "                        'policy_class': policy_class,\n",
    "                        'task_name': task_name,\n",
    "                        'seed': seed,\n",
    "                        'num_epochs': num_epochs\n",
    "                        }\n",
    "elif policy_class == 'CNNMLP':\n",
    "    policy_config = {'lr': lr, 'lr_backbone': lr_backbone, 'backbone' : backbone, 'num_queries': 1,\n",
    "                        'camera_names': camera_names,}\n",
    "else:\n",
    "    raise NotImplementedError\n",
    "\n",
    "config = {\n",
    "    'num_epochs': num_epochs,\n",
    "    'ckpt_dir': ckpt_dir,\n",
    "    'episode_len': episode_len,\n",
    "    'state_dim': state_dim,\n",
    "    'lr': lr,\n",
    "    'policy_class': policy_class,\n",
    "    'onscreen_render': onscreen_render,\n",
    "    'policy_config': policy_config,\n",
    "    'task_name': task_name,\n",
    "    'seed': seed,\n",
    "    'temporal_agg': temporal_agg,\n",
    "    'camera_names': camera_names,\n",
    "    'real_robot': not is_sim\n",
    "}\n"
   ]
  },
  {
   "cell_type": "code",
   "execution_count": 4,
   "metadata": {},
   "outputs": [],
   "source": [
    "def make_policy(policy_class, policy_config):\n",
    "    if policy_class == 'ACT':\n",
    "        policy = ACTPolicy(policy_config)\n",
    "    elif policy_class == 'CNNMLP':\n",
    "        policy = CNNMLPPolicy(policy_config)\n",
    "    else:\n",
    "        raise NotImplementedError\n",
    "    return policy\n",
    "\n",
    "def eval_bc(config, ckpt_name, save_episode=True):\n",
    "    set_seed(1000)\n",
    "    ckpt_dir = config['ckpt_dir']\n",
    "    state_dim = config['state_dim']\n",
    "    real_robot = config['real_robot']\n",
    "    policy_class = config['policy_class']\n",
    "    onscreen_render = config['onscreen_render']\n",
    "    policy_config = config['policy_config']\n",
    "    camera_names = config['camera_names']\n",
    "    max_timesteps = config['episode_len']\n",
    "    task_name = config['task_name']\n",
    "    temporal_agg = config['temporal_agg']\n",
    "    onscreen_cam = 'angle'\n",
    "\n",
    "    # load policy and stats\n",
    "    ckpt_path = os.path.join(ckpt_dir, ckpt_name)\n",
    "    policy = make_policy(policy_class, policy_config)\n",
    "    loading_status = policy.load_state_dict(torch.load(ckpt_path))\n",
    "    print(loading_status)\n",
    "    policy.cuda()\n",
    "    policy.eval()\n",
    "    print(f'Loaded: {ckpt_path}')\n",
    "    stats_path = os.path.join(ckpt_dir, f'dataset_stats.pkl')\n",
    "    with open(stats_path, 'rb') as f:\n",
    "        stats = pickle.load(f)\n",
    "\n",
    "    pre_process = lambda s_qpos: (s_qpos - stats['qpos_mean']) / stats['qpos_std']\n",
    "    post_process = lambda a: a * stats['action_std'] + stats['action_mean']"
   ]
  },
  {
   "cell_type": "code",
   "execution_count": 5,
   "metadata": {},
   "outputs": [
    {
     "name": "stdout",
     "output_type": "stream",
     "text": [
      "args_override: {'lr': 0.0001, 'num_queries': 100, 'kl_weight': 10, 'hidden_dim': 512, 'dim_feedforward': 3200, 'lr_backbone': 1e-05, 'backbone': 'resnet18', 'enc_layers': 4, 'dec_layers': 7, 'nheads': 8, 'camera_names': ['cam_high', 'cam_low', 'cam_left_wrist', 'cam_right_wrist'], 'ckpt_dir': '/home/horowitzlab/project/act/ckpt_dir/real_peg_insertion', 'policy_class': 'ACT', 'task_name': 'real_peg_insertion', 'seed': 0, 'num_epochs': 8000}\n"
     ]
    },
    {
     "name": "stderr",
     "output_type": "stream",
     "text": [
      "usage: DETR training and evaluation script [-h] [--lr LR]\n",
      "                                           [--lr_backbone LR_BACKBONE]\n",
      "                                           [--batch_size BATCH_SIZE]\n",
      "                                           [--weight_decay WEIGHT_DECAY]\n",
      "                                           [--epochs EPOCHS]\n",
      "                                           [--lr_drop LR_DROP]\n",
      "                                           [--clip_max_norm CLIP_MAX_NORM]\n",
      "                                           [--backbone BACKBONE] [--dilation]\n",
      "                                           [--position_embedding {sine,learned}]\n",
      "                                           [--camera_names CAMERA_NAMES]\n",
      "                                           [--enc_layers ENC_LAYERS]\n",
      "                                           [--dec_layers DEC_LAYERS]\n",
      "                                           [--dim_feedforward DIM_FEEDFORWARD]\n",
      "                                           [--hidden_dim HIDDEN_DIM]\n",
      "                                           [--dropout DROPOUT]\n",
      "                                           [--nheads NHEADS]\n",
      "                                           [--num_queries NUM_QUERIES]\n",
      "                                           [--pre_norm] [--masks] [--eval]\n",
      "                                           [--onscreen_render] --ckpt_dir\n",
      "                                           CKPT_DIR --policy_class\n",
      "                                           POLICY_CLASS --task_name TASK_NAME\n",
      "                                           --seed SEED --num_epochs NUM_EPOCHS\n",
      "                                           [--kl_weight KL_WEIGHT]\n",
      "                                           [--chunk_size CHUNK_SIZE]\n",
      "                                           [--temporal_agg]\n",
      "DETR training and evaluation script: error: the following arguments are required: --ckpt_dir, --policy_class, --task_name, --seed, --num_epochs\n"
     ]
    },
    {
     "ename": "SystemExit",
     "evalue": "2",
     "output_type": "error",
     "traceback": [
      "An exception has occurred, use %tb to see the full traceback.\n",
      "\u001b[0;31mSystemExit\u001b[0m\u001b[0;31m:\u001b[0m 2\n"
     ]
    }
   ],
   "source": [
    "eval_bc(config,\"/home/horowitzlab/project/act/ckpt_dir/real_peg_insertion/policy_last.ckpt\" )"
   ]
  },
  {
   "cell_type": "code",
   "execution_count": null,
   "metadata": {},
   "outputs": [
    {
     "ename": "SystemExit",
     "evalue": "2",
     "output_type": "error",
     "traceback": [
      "\u001b[0;31m---------------------------------------------------------------------------\u001b[0m",
      "\u001b[0;31mSystemExit\u001b[0m                                Traceback (most recent call last)",
      "Cell \u001b[0;32mIn[4], line 1\u001b[0m\n\u001b[0;32m----> 1\u001b[0m \u001b[43meval_bc\u001b[49m\u001b[43m(\u001b[49m\u001b[43mconfig\u001b[49m\u001b[43m,\u001b[49m\u001b[38;5;124;43m\"\u001b[39;49m\u001b[38;5;124;43m/home/horowitzlab/project/act/ckpt_dir/real_peg_insertion/policy_last.ckpt\u001b[39;49m\u001b[38;5;124;43m\"\u001b[39;49m\u001b[43m \u001b[49m\u001b[43m)\u001b[49m\n",
      "Cell \u001b[0;32mIn[2], line 26\u001b[0m, in \u001b[0;36meval_bc\u001b[0;34m(config, ckpt_name, save_episode)\u001b[0m\n\u001b[1;32m     24\u001b[0m \u001b[38;5;66;03m# load policy and stats\u001b[39;00m\n\u001b[1;32m     25\u001b[0m ckpt_path \u001b[38;5;241m=\u001b[39m os\u001b[38;5;241m.\u001b[39mpath\u001b[38;5;241m.\u001b[39mjoin(ckpt_dir, ckpt_name)\n\u001b[0;32m---> 26\u001b[0m policy \u001b[38;5;241m=\u001b[39m \u001b[43mmake_policy\u001b[49m\u001b[43m(\u001b[49m\u001b[43mpolicy_class\u001b[49m\u001b[43m,\u001b[49m\u001b[43m \u001b[49m\u001b[43mpolicy_config\u001b[49m\u001b[43m)\u001b[49m\n\u001b[1;32m     27\u001b[0m loading_status \u001b[38;5;241m=\u001b[39m policy\u001b[38;5;241m.\u001b[39mload_state_dict(torch\u001b[38;5;241m.\u001b[39mload(ckpt_path))\n\u001b[1;32m     28\u001b[0m \u001b[38;5;28mprint\u001b[39m(loading_status)\n",
      "Cell \u001b[0;32mIn[2], line 3\u001b[0m, in \u001b[0;36mmake_policy\u001b[0;34m(policy_class, policy_config)\u001b[0m\n\u001b[1;32m      1\u001b[0m \u001b[38;5;28;01mdef\u001b[39;00m \u001b[38;5;21mmake_policy\u001b[39m(policy_class, policy_config):\n\u001b[1;32m      2\u001b[0m     \u001b[38;5;28;01mif\u001b[39;00m policy_class \u001b[38;5;241m==\u001b[39m \u001b[38;5;124m'\u001b[39m\u001b[38;5;124mACT\u001b[39m\u001b[38;5;124m'\u001b[39m:\n\u001b[0;32m----> 3\u001b[0m         policy \u001b[38;5;241m=\u001b[39m \u001b[43mACTPolicy\u001b[49m\u001b[43m(\u001b[49m\u001b[43mpolicy_config\u001b[49m\u001b[43m)\u001b[49m\n\u001b[1;32m      4\u001b[0m     \u001b[38;5;28;01melif\u001b[39;00m policy_class \u001b[38;5;241m==\u001b[39m \u001b[38;5;124m'\u001b[39m\u001b[38;5;124mCNNMLP\u001b[39m\u001b[38;5;124m'\u001b[39m:\n\u001b[1;32m      5\u001b[0m         policy \u001b[38;5;241m=\u001b[39m CNNMLPPolicy(policy_config)\n",
      "File \u001b[0;32m~/project/act/policy.py:12\u001b[0m, in \u001b[0;36mACTPolicy.__init__\u001b[0;34m(self, args_override)\u001b[0m\n\u001b[1;32m     10\u001b[0m \u001b[38;5;28;01mdef\u001b[39;00m \u001b[38;5;21m__init__\u001b[39m(\u001b[38;5;28mself\u001b[39m, args_override):\n\u001b[1;32m     11\u001b[0m     \u001b[38;5;28msuper\u001b[39m()\u001b[38;5;241m.\u001b[39m\u001b[38;5;21m__init__\u001b[39m()\n\u001b[0;32m---> 12\u001b[0m     model, optimizer \u001b[38;5;241m=\u001b[39m \u001b[43mbuild_ACT_model_and_optimizer\u001b[49m\u001b[43m(\u001b[49m\u001b[43margs_override\u001b[49m\u001b[43m)\u001b[49m\n\u001b[1;32m     13\u001b[0m     \u001b[38;5;28mself\u001b[39m\u001b[38;5;241m.\u001b[39mmodel \u001b[38;5;241m=\u001b[39m model \u001b[38;5;66;03m# CVAE decoder\u001b[39;00m\n\u001b[1;32m     14\u001b[0m     \u001b[38;5;28mself\u001b[39m\u001b[38;5;241m.\u001b[39moptimizer \u001b[38;5;241m=\u001b[39m optimizer\n",
      "File \u001b[0;32m~/project/act/detr/main.py:73\u001b[0m, in \u001b[0;36mbuild_ACT_model_and_optimizer\u001b[0;34m(args_override)\u001b[0m\n\u001b[1;32m     71\u001b[0m parser \u001b[38;5;241m=\u001b[39m argparse\u001b[38;5;241m.\u001b[39mArgumentParser(\u001b[38;5;124m'\u001b[39m\u001b[38;5;124mDETR training and evaluation script\u001b[39m\u001b[38;5;124m'\u001b[39m, parents\u001b[38;5;241m=\u001b[39m[get_args_parser()])\n\u001b[1;32m     72\u001b[0m \u001b[38;5;66;03m# args = parser.parse_args()\u001b[39;00m\n\u001b[0;32m---> 73\u001b[0m args, _ \u001b[38;5;241m=\u001b[39m \u001b[43mparser\u001b[49m\u001b[38;5;241;43m.\u001b[39;49m\u001b[43mparse_known_args\u001b[49m\u001b[43m(\u001b[49m\u001b[43m)\u001b[49m \n\u001b[1;32m     74\u001b[0m \u001b[38;5;66;03m# args = args_override\u001b[39;00m\n\u001b[1;32m     75\u001b[0m \u001b[38;5;28;01mfor\u001b[39;00m k, v \u001b[38;5;129;01min\u001b[39;00m args_override\u001b[38;5;241m.\u001b[39mitems():\n",
      "File \u001b[0;32m~/miniforge3/envs/aloha/lib/python3.8/argparse.py:1800\u001b[0m, in \u001b[0;36mArgumentParser.parse_known_args\u001b[0;34m(self, args, namespace)\u001b[0m\n\u001b[1;32m   1798\u001b[0m \u001b[38;5;66;03m# parse the arguments and exit if there are any errors\u001b[39;00m\n\u001b[1;32m   1799\u001b[0m \u001b[38;5;28;01mtry\u001b[39;00m:\n\u001b[0;32m-> 1800\u001b[0m     namespace, args \u001b[38;5;241m=\u001b[39m \u001b[38;5;28;43mself\u001b[39;49m\u001b[38;5;241;43m.\u001b[39;49m\u001b[43m_parse_known_args\u001b[49m\u001b[43m(\u001b[49m\u001b[43margs\u001b[49m\u001b[43m,\u001b[49m\u001b[43m \u001b[49m\u001b[43mnamespace\u001b[49m\u001b[43m)\u001b[49m\n\u001b[1;32m   1801\u001b[0m     \u001b[38;5;28;01mif\u001b[39;00m \u001b[38;5;28mhasattr\u001b[39m(namespace, _UNRECOGNIZED_ARGS_ATTR):\n\u001b[1;32m   1802\u001b[0m         args\u001b[38;5;241m.\u001b[39mextend(\u001b[38;5;28mgetattr\u001b[39m(namespace, _UNRECOGNIZED_ARGS_ATTR))\n",
      "File \u001b[0;32m~/miniforge3/envs/aloha/lib/python3.8/argparse.py:2034\u001b[0m, in \u001b[0;36mArgumentParser._parse_known_args\u001b[0;34m(self, arg_strings, namespace)\u001b[0m\n\u001b[1;32m   2030\u001b[0m                 \u001b[38;5;28msetattr\u001b[39m(namespace, action\u001b[38;5;241m.\u001b[39mdest,\n\u001b[1;32m   2031\u001b[0m                         \u001b[38;5;28mself\u001b[39m\u001b[38;5;241m.\u001b[39m_get_value(action, action\u001b[38;5;241m.\u001b[39mdefault))\n\u001b[1;32m   2033\u001b[0m \u001b[38;5;28;01mif\u001b[39;00m required_actions:\n\u001b[0;32m-> 2034\u001b[0m     \u001b[38;5;28;43mself\u001b[39;49m\u001b[38;5;241;43m.\u001b[39;49m\u001b[43merror\u001b[49m\u001b[43m(\u001b[49m\u001b[43m_\u001b[49m\u001b[43m(\u001b[49m\u001b[38;5;124;43m'\u001b[39;49m\u001b[38;5;124;43mthe following arguments are required: \u001b[39;49m\u001b[38;5;132;43;01m%s\u001b[39;49;00m\u001b[38;5;124;43m'\u001b[39;49m\u001b[43m)\u001b[49m\u001b[43m \u001b[49m\u001b[38;5;241;43m%\u001b[39;49m\n\u001b[1;32m   2035\u001b[0m \u001b[43m               \u001b[49m\u001b[38;5;124;43m'\u001b[39;49m\u001b[38;5;124;43m, \u001b[39;49m\u001b[38;5;124;43m'\u001b[39;49m\u001b[38;5;241;43m.\u001b[39;49m\u001b[43mjoin\u001b[49m\u001b[43m(\u001b[49m\u001b[43mrequired_actions\u001b[49m\u001b[43m)\u001b[49m\u001b[43m)\u001b[49m\n\u001b[1;32m   2037\u001b[0m \u001b[38;5;66;03m# make sure all required groups had one option present\u001b[39;00m\n\u001b[1;32m   2038\u001b[0m \u001b[38;5;28;01mfor\u001b[39;00m group \u001b[38;5;129;01min\u001b[39;00m \u001b[38;5;28mself\u001b[39m\u001b[38;5;241m.\u001b[39m_mutually_exclusive_groups:\n",
      "File \u001b[0;32m~/miniforge3/envs/aloha/lib/python3.8/argparse.py:2521\u001b[0m, in \u001b[0;36mArgumentParser.error\u001b[0;34m(self, message)\u001b[0m\n\u001b[1;32m   2519\u001b[0m \u001b[38;5;28mself\u001b[39m\u001b[38;5;241m.\u001b[39mprint_usage(_sys\u001b[38;5;241m.\u001b[39mstderr)\n\u001b[1;32m   2520\u001b[0m args \u001b[38;5;241m=\u001b[39m {\u001b[38;5;124m'\u001b[39m\u001b[38;5;124mprog\u001b[39m\u001b[38;5;124m'\u001b[39m: \u001b[38;5;28mself\u001b[39m\u001b[38;5;241m.\u001b[39mprog, \u001b[38;5;124m'\u001b[39m\u001b[38;5;124mmessage\u001b[39m\u001b[38;5;124m'\u001b[39m: message}\n\u001b[0;32m-> 2521\u001b[0m \u001b[38;5;28;43mself\u001b[39;49m\u001b[38;5;241;43m.\u001b[39;49m\u001b[43mexit\u001b[49m\u001b[43m(\u001b[49m\u001b[38;5;241;43m2\u001b[39;49m\u001b[43m,\u001b[49m\u001b[43m \u001b[49m\u001b[43m_\u001b[49m\u001b[43m(\u001b[49m\u001b[38;5;124;43m'\u001b[39;49m\u001b[38;5;132;43;01m%(prog)s\u001b[39;49;00m\u001b[38;5;124;43m: error: \u001b[39;49m\u001b[38;5;132;43;01m%(message)s\u001b[39;49;00m\u001b[38;5;130;43;01m\\n\u001b[39;49;00m\u001b[38;5;124;43m'\u001b[39;49m\u001b[43m)\u001b[49m\u001b[43m \u001b[49m\u001b[38;5;241;43m%\u001b[39;49m\u001b[43m \u001b[49m\u001b[43margs\u001b[49m\u001b[43m)\u001b[49m\n",
      "File \u001b[0;32m~/miniforge3/envs/aloha/lib/python3.8/argparse.py:2508\u001b[0m, in \u001b[0;36mArgumentParser.exit\u001b[0;34m(self, status, message)\u001b[0m\n\u001b[1;32m   2506\u001b[0m \u001b[38;5;28;01mif\u001b[39;00m message:\n\u001b[1;32m   2507\u001b[0m     \u001b[38;5;28mself\u001b[39m\u001b[38;5;241m.\u001b[39m_print_message(message, _sys\u001b[38;5;241m.\u001b[39mstderr)\n\u001b[0;32m-> 2508\u001b[0m \u001b[43m_sys\u001b[49m\u001b[38;5;241;43m.\u001b[39;49m\u001b[43mexit\u001b[49m\u001b[43m(\u001b[49m\u001b[43mstatus\u001b[49m\u001b[43m)\u001b[49m\n",
      "\u001b[0;31mSystemExit\u001b[0m: 2"
     ]
    }
   ],
   "source": [
    "%tb"
   ]
  },
  {
   "cell_type": "code",
   "execution_count": null,
   "metadata": {},
   "outputs": [],
   "source": []
  }
 ],
 "metadata": {
  "kernelspec": {
   "display_name": "aloha",
   "language": "python",
   "name": "python3"
  },
  "language_info": {
   "codemirror_mode": {
    "name": "ipython",
    "version": 3
   },
   "file_extension": ".py",
   "mimetype": "text/x-python",
   "name": "python",
   "nbconvert_exporter": "python",
   "pygments_lexer": "ipython3",
   "version": "3.8.12"
  }
 },
 "nbformat": 4,
 "nbformat_minor": 2
}
