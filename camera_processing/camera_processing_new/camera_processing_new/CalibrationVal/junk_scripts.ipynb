{
 "cells": [
  {
   "cell_type": "code",
   "execution_count": 3,
   "metadata": {},
   "outputs": [],
   "source": [
    "import numpy as np\n",
    "intrinsics = np.array([[606.7850341796875, 0, 313.2361145019531],[0,606.9034423828125,256.33355712890625],[0, 0, 1]])\n",
    "distortion = np.zeros((5,))\n",
    "np.save(\"intrinsics/realsense.npy\", intrinsics)\n",
    "np.save(\"distortions/realsense.npy\", distortion)"
   ]
  }
 ],
 "metadata": {
  "kernelspec": {
   "display_name": "neuromeka",
   "language": "python",
   "name": "python3"
  },
  "language_info": {
   "codemirror_mode": {
    "name": "ipython",
    "version": 3
   },
   "file_extension": ".py",
   "mimetype": "text/x-python",
   "name": "python",
   "nbconvert_exporter": "python",
   "pygments_lexer": "ipython3",
   "version": "3.10.13"
  }
 },
 "nbformat": 4,
 "nbformat_minor": 2
}
